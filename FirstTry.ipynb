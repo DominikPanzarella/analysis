{
 "cells": [
  {
   "cell_type": "markdown",
   "id": "399723d0-87de-4ee6-81d8-c16b0e0e4648",
   "metadata": {},
   "source": [
    "This is a try"
   ]
  },
  {
   "cell_type": "code",
   "execution_count": 1,
   "id": "a20ee5c3-16ce-40f5-afe0-1aebb8488a7d",
   "metadata": {},
   "outputs": [
    {
     "name": "stdout",
     "output_type": "stream",
     "text": [
      "Hello\n"
     ]
    }
   ],
   "source": [
    "print(\"Hello\")"
   ]
  },
  {
   "cell_type": "code",
   "execution_count": null,
   "id": "c0570a58-0006-43e4-950f-7644c89edf3d",
   "metadata": {},
   "outputs": [],
   "source": []
  }
 ],
 "metadata": {
  "kernelspec": {
   "display_name": "Python 3 (ipykernel)",
   "language": "python",
   "name": "python3"
  },
  "language_info": {
   "codemirror_mode": {
    "name": "ipython",
    "version": 3
   },
   "file_extension": ".py",
   "mimetype": "text/x-python",
   "name": "python",
   "nbconvert_exporter": "python",
   "pygments_lexer": "ipython3",
   "version": "3.10.12"
  }
 },
 "nbformat": 4,
 "nbformat_minor": 5
}
